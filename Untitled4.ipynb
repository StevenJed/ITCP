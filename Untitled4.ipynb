{
 "cells": [
  {
   "cell_type": "code",
   "execution_count": 15,
   "id": "35097f97",
   "metadata": {},
   "outputs": [],
   "source": [
    "import numpy as np\n",
    "import matplotlib.pyplot as plt\n",
    "from ipywidgets import interactive, HBox,Layout,Button,GridspecLayout"
   ]
  },
  {
   "cell_type": "code",
   "execution_count": 16,
   "id": "8fceb797",
   "metadata": {},
   "outputs": [],
   "source": [
    "plt.style.use('ggplot')"
   ]
  },
  {
   "cell_type": "code",
   "execution_count": 17,
   "id": "6a9f2a68",
   "metadata": {
    "scrolled": true
   },
   "outputs": [],
   "source": [
    "%matplotlib widget "
   ]
  },
  {
   "cell_type": "code",
   "execution_count": 18,
   "id": "7f658d7a",
   "metadata": {},
   "outputs": [],
   "source": [
    "def sinwave(A, f, phi,color):\n",
    "    # set up plot\n",
    "    fig, ax = plt.subplots(figsize=(10,4))\n",
    "    ax.set_ylim([-4, 4])\n",
    "    ax.grid(True)\n",
    "    ax.set_xlabel('X')\n",
    "    ax.set_ylabel('Sine Wave')\n",
    "    ax.set_title('Sine Wave Widget for Interactive Plot')\n",
    "    \n",
    "    fig.canvas.toolbar_position = 'bottom' # set zoom-able and resize-able under the figure\n",
    "    fig.canvas.header_visible = False # Hide the Figure name at the top of the figure\n",
    "    \n",
    "    # generate x values\n",
    "    x = np.linspace(0, 2 * np.pi, 100)\n",
    "    y = A*np.sin(x*f + phi);\n",
    "\n",
    "    ax.plot(x,y,color)"
   ]
  },
  {
   "cell_type": "code",
   "execution_count": 19,
   "id": "acfed33e",
   "metadata": {},
   "outputs": [],
   "source": [
    "colors = ['blue', 'red', 'orange']"
   ]
  },
  {
   "cell_type": "code",
   "execution_count": 20,
   "id": "6efae1e6",
   "metadata": {},
   "outputs": [],
   "source": [
    "widget = interactive(sinwave,A=(0, 4, .1),f=(0, 10, 1), phi=(0, 2, 0.5),color=colors)"
   ]
  },
  {
   "cell_type": "code",
   "execution_count": 22,
   "id": "2bbbae30",
   "metadata": {},
   "outputs": [],
   "source": [
    "controls = HBox(widget.children[:-1], layout = Layout(flex_flow='column wrap'),width='auto', height='auto')\n",
    "output = widget.children[-1]"
   ]
  },
  {
   "cell_type": "code",
   "execution_count": 23,
   "id": "cd081e8f",
   "metadata": {},
   "outputs": [],
   "source": [
    "def create_expanded_button(description, button_style):\n",
    "    return Button(description=description, button_style=button_style, layout=Layout(height='auto', width='auto'))"
   ]
  },
  {
   "cell_type": "code",
   "execution_count": 24,
   "id": "ed143fbe",
   "metadata": {},
   "outputs": [
    {
     "data": {
      "application/vnd.jupyter.widget-view+json": {
       "model_id": "3fcec38212ff4ebebc27e8b63127b2f1",
       "version_major": 2,
       "version_minor": 0
      },
      "text/plain": [
       "GridspecLayout(children=(Button(button_style='success', description='Sine Web Plot App', layout=Layout(grid_ar…"
      ]
     },
     "metadata": {},
     "output_type": "display_data"
    }
   ],
   "source": [
    "grid = GridspecLayout(17, 6, height='600px')\n",
    "grid[0,:] = create_expanded_button('Sine Web Plot App', 'success')\n",
    "grid[2:15, 0:2] = controls\n",
    "grid[1:16, 2:] = output\n",
    "grid[16,:] = create_expanded_button('\\xa9 2021 Copyright Shouke Wei', 'info')\n",
    "\n",
    "grid"
   ]
  },
  {
   "cell_type": "code",
   "execution_count": 4,
   "id": "3bd264f3",
   "metadata": {},
   "outputs": [],
   "source": [
    "#!jupyter nbextension enable --py widgetsnbextension --sys-prefix\n",
    "#!jupyter serverextension enable voila --sys-prefix"
   ]
  },
  {
   "cell_type": "code",
   "execution_count": null,
   "id": "9045ef68",
   "metadata": {},
   "outputs": [],
   "source": []
  }
 ],
 "metadata": {
  "kernelspec": {
   "display_name": "Python 3 (ipykernel)",
   "language": "python",
   "name": "python3"
  },
  "language_info": {
   "codemirror_mode": {
    "name": "ipython",
    "version": 3
   },
   "file_extension": ".py",
   "mimetype": "text/x-python",
   "name": "python",
   "nbconvert_exporter": "python",
   "pygments_lexer": "ipython3",
   "version": "3.9.7"
  }
 },
 "nbformat": 4,
 "nbformat_minor": 5
}
